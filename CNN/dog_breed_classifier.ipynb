{
  "cells": [
    {
      "cell_type": "code",
      "execution_count": null,
      "metadata": {
        "colab": {
          "base_uri": "https://localhost:8080/"
        },
        "id": "4XVoDffi-3NL",
        "outputId": "4b3f78e6-84a5-47a0-e09e-414a6f521e7f"
      },
      "outputs": [
        {
          "output_type": "stream",
          "name": "stdout",
          "text": [
            "Drive already mounted at /content/drive; to attempt to forcibly remount, call drive.mount(\"/content/drive\", force_remount=True).\n"
          ]
        }
      ],
      "source": [
        "from google.colab import drive\n",
        "drive.mount('/content/drive')"
      ]
    },
    {
      "cell_type": "code",
      "execution_count": null,
      "metadata": {
        "id": "xyFBZzaDEIqw"
      },
      "outputs": [],
      "source": [
        "#Jason\n",
        "!unzip '/content/drive/MyDrive/MDST - Dogs and Cats/Images.zip' -d 'train_data'"
      ]
    },
    {
      "cell_type": "code",
      "execution_count": null,
      "metadata": {
        "id": "dsIFnF_a_g63"
      },
      "outputs": [],
      "source": [
        "import os\n",
        "import sys\n",
        "import keras\n",
        "import tarfile\n",
        "import numpy as np\n",
        "import tensorflow as tf\n",
        "import matplotlib.pyplot as plt\n",
        "from keras.models import Sequential\n",
        "from keras.engine.training import Model\n",
        "from sklearn.preprocessing import LabelBinarizer\n",
        "from keras.preprocessing.image import ImageDataGenerator\n",
        "from keras.layers import Add, Dropout, Flatten, Dense, Activation"
      ]
    },
    {
      "cell_type": "code",
      "execution_count": null,
      "metadata": {
        "id": "y_q6kjLoDphy"
      },
      "outputs": [],
      "source": [
        "import cv2\n",
        "BASEPATH = '/content/train_data/Images'\n",
        "LABELS = []\n",
        "paths = []\n",
        "for d in os.listdir(BASEPATH):\n",
        "  if d == '.DS_Store': continue\n",
        "  paths.append((BASEPATH + '/' + d, d))\n",
        "  for c in os.listdir(BASEPATH + '/' + d):\n",
        "    LABELS.append(c+d)\n",
        "# resizing and converting to RGB\n",
        "def load_and_preprocess_image(path):\n",
        "  image = cv2.imread(path)\n",
        "  image = cv2.resize(image, (180, 180))\n",
        "  image = cv2.cvtColor(image, cv2.COLOR_BGR2RGB)\n",
        "  return image"
      ]
    },
    {
      "cell_type": "code",
      "source": [
        "X, y = [], []\n",
        "temp = []\n",
        "for path, label in paths:\n",
        "  if path == \"/content/train_data/Images/.DS_Store\": continue\n",
        "  label = label.split('-')[1]\n",
        "  i = 252\n",
        "  for image_path in os.listdir(path):\n",
        "    image = load_and_preprocess_image(path + \"/\" + image_path)\n",
        "    X.append(image)\n",
        "    y.append(label)\n",
        "    i = i-1\n",
        "  while i > 0:\n",
        "    image = load_and_preprocess_image(path + \"/\" + os.listdir(path)[i])\n",
        "    rotate = tf.image.flip_left_right(image)\n",
        "    X.append(rotate)\n",
        "    y.append(label)\n",
        "    i = i-1"
      ],
      "metadata": {
        "id": "lF5ZlpdBLclj"
      },
      "execution_count": null,
      "outputs": []
    },
    {
      "cell_type": "code",
      "execution_count": null,
      "metadata": {
        "id": "l0etU-VpD5o-"
      },
      "outputs": [],
      "source": [
        "encoder = LabelBinarizer()\n",
        "y = encoder.fit_transform(np.array(y))"
      ]
    },
    {
      "cell_type": "code",
      "execution_count": null,
      "metadata": {
        "id": "WI7qL4KVH5SR"
      },
      "outputs": [],
      "source": [
        "from sklearn.model_selection import train_test_split\n",
        "X = np.array(X)\n",
        "x_train, x_test, y_train, y_test = train_test_split(X, y, test_size=0.25, random_state=87)"
      ]
    },
    {
      "cell_type": "code",
      "execution_count": null,
      "metadata": {
        "id": "ylfx2wfsLeox"
      },
      "outputs": [],
      "source": [
        "from tensorflow.keras import datasets, layers, models"
      ]
    },
    {
      "cell_type": "code",
      "execution_count": null,
      "metadata": {
        "id": "eLtSHPQsCTGu"
      },
      "outputs": [],
      "source": [
        "resnet_model = Sequential()\n",
        "\n",
        "pretrained_model= tf.keras.applications.ResNet50(include_top=False,\n",
        "                   input_shape=(180,180,3),\n",
        "                   pooling='avg',\n",
        "                   classes= 120,\n",
        "                   weights= 'imagenet')\n",
        "for layer in pretrained_model.layers:\n",
        "        layer.trainable=False\n",
        "\n",
        "resnet_model.add(pretrained_model)"
      ]
    },
    {
      "cell_type": "code",
      "execution_count": null,
      "metadata": {
        "id": "UJOSAXUzDLPL"
      },
      "outputs": [],
      "source": [
        "resnet_model.add(Flatten())\n",
        "resnet_model.add(Dense(1024, activation= tf.keras.layers.PReLU()))\n",
        "resnet_model.add(Dense(512, activation=tf.keras.layers.PReLU()))\n",
        "resnet_model.add(layers.Dropout(0.35))\n",
        "resnet_model.add(Dense(512, activation=tf.keras.layers.PReLU()))\n",
        "resnet_model.add(layers.Dropout(0.35))\n",
        "resnet_model.add(Dense(512, activation=tf.keras.layers.PReLU()))\n",
        "resnet_model.add(layers.Dropout(0.5))\n",
        "resnet_model.add(Dense(120, activation='softmax'))"
      ]
    },
    {
      "cell_type": "code",
      "execution_count": null,
      "metadata": {
        "id": "UM9VpzVdDQDJ"
      },
      "outputs": [],
      "source": [
        "resnet_model.summary()"
      ]
    },
    {
      "cell_type": "code",
      "execution_count": null,
      "metadata": {
        "id": "SBcNtOumDfI1",
        "colab": {
          "base_uri": "https://localhost:8080/"
        },
        "outputId": "b0c060ad-af7e-4ae0-92cf-2bcfa1ec5b68"
      },
      "outputs": [
        {
          "output_type": "stream",
          "name": "stdout",
          "text": [
            "Epoch 1/20\n",
            "284/284 [==============================] - 62s 182ms/step - loss: 4.0332 - accuracy: 0.0842 - val_loss: 2.6519 - val_accuracy: 0.2690\n",
            "Epoch 2/20\n",
            "284/284 [==============================] - 48s 169ms/step - loss: 2.7179 - accuracy: 0.2704 - val_loss: 2.1703 - val_accuracy: 0.3862\n",
            "Epoch 3/20\n",
            "284/284 [==============================] - 48s 170ms/step - loss: 2.2583 - accuracy: 0.3682 - val_loss: 1.8787 - val_accuracy: 0.4619\n",
            "Epoch 4/20\n",
            "284/284 [==============================] - 48s 169ms/step - loss: 1.9954 - accuracy: 0.4319 - val_loss: 1.7757 - val_accuracy: 0.4879\n",
            "Epoch 5/20\n",
            "284/284 [==============================] - 48s 170ms/step - loss: 1.7960 - accuracy: 0.4839 - val_loss: 1.7628 - val_accuracy: 0.5007\n",
            "Epoch 6/20\n",
            "284/284 [==============================] - 48s 170ms/step - loss: 1.6372 - accuracy: 0.5230 - val_loss: 1.7558 - val_accuracy: 0.5093\n",
            "Epoch 7/20\n",
            "284/284 [==============================] - 48s 169ms/step - loss: 1.5195 - accuracy: 0.5586 - val_loss: 1.6078 - val_accuracy: 0.5441\n",
            "Epoch 8/20\n",
            "284/284 [==============================] - 48s 169ms/step - loss: 1.3948 - accuracy: 0.5852 - val_loss: 1.6179 - val_accuracy: 0.5456\n",
            "Epoch 9/20\n",
            "284/284 [==============================] - 48s 170ms/step - loss: 1.3007 - accuracy: 0.6102 - val_loss: 1.6293 - val_accuracy: 0.5525\n",
            "Epoch 10/20\n",
            "284/284 [==============================] - 48s 169ms/step - loss: 1.2055 - accuracy: 0.6429 - val_loss: 1.6133 - val_accuracy: 0.5602\n",
            "Epoch 11/20\n",
            "284/284 [==============================] - 48s 170ms/step - loss: 1.1113 - accuracy: 0.6634 - val_loss: 1.6423 - val_accuracy: 0.5646\n",
            "Epoch 12/20\n",
            "284/284 [==============================] - 49s 171ms/step - loss: 1.0430 - accuracy: 0.6868 - val_loss: 1.6216 - val_accuracy: 0.5721\n",
            "Epoch 13/20\n",
            "284/284 [==============================] - 48s 169ms/step - loss: 0.9678 - accuracy: 0.7023 - val_loss: 1.6650 - val_accuracy: 0.5743\n",
            "Epoch 14/20\n",
            "284/284 [==============================] - 48s 169ms/step - loss: 0.9242 - accuracy: 0.7144 - val_loss: 1.6627 - val_accuracy: 0.5820\n",
            "Epoch 15/20\n",
            "284/284 [==============================] - 48s 169ms/step - loss: 0.8761 - accuracy: 0.7309 - val_loss: 1.7168 - val_accuracy: 0.5899\n",
            "Epoch 16/20\n",
            "284/284 [==============================] - 48s 169ms/step - loss: 0.8056 - accuracy: 0.7487 - val_loss: 1.7600 - val_accuracy: 0.5895\n",
            "Epoch 17/20\n",
            "284/284 [==============================] - 48s 169ms/step - loss: 0.8015 - accuracy: 0.7530 - val_loss: 1.6889 - val_accuracy: 0.6014\n",
            "Epoch 18/20\n",
            "284/284 [==============================] - 48s 169ms/step - loss: 0.7229 - accuracy: 0.7753 - val_loss: 1.6792 - val_accuracy: 0.6005\n",
            "Epoch 19/20\n",
            "284/284 [==============================] - 48s 169ms/step - loss: 0.6974 - accuracy: 0.7841 - val_loss: 1.7800 - val_accuracy: 0.5992\n",
            "Epoch 20/20\n",
            "284/284 [==============================] - 48s 169ms/step - loss: 0.6638 - accuracy: 0.7941 - val_loss: 1.7460 - val_accuracy: 0.6041\n"
          ]
        }
      ],
      "source": [
        "resnet_model.compile(optimizer='Adam',\n",
        "              loss = 'categorical_crossentropy',\n",
        "              metrics=['accuracy'])\n",
        "\n",
        "\n",
        "history = resnet_model.fit(x_train, y_train,  validation_split = 0.2, epochs=20, batch_size = 64)"
      ]
    },
    {
      "cell_type": "code",
      "execution_count": null,
      "metadata": {
        "colab": {
          "base_uri": "https://localhost:8080/",
          "height": 300
        },
        "id": "mb30TVzWUAxQ",
        "outputId": "97feee99-f308-40da-b558-f66af4ae5418"
      },
      "outputs": [
        {
          "output_type": "stream",
          "name": "stdout",
          "text": [
            "237/237 - 17s - loss: 1.8659 - accuracy: 0.6034 - 17s/epoch - 70ms/step\n"
          ]
        },
        {
          "output_type": "display_data",
          "data": {
            "text/plain": [
              "<Figure size 432x288 with 1 Axes>"
            ],
            "image/png": "[encoded data removed]"
          },
          "metadata": {
            "needs_background": "light"
          }
        }
      ],
      "source": [
        "plt.plot(history.history['accuracy'], label='accuracy')\n",
        "plt.plot(history.history['val_accuracy'], label = 'val_accuracy')\n",
        "plt.xlabel('Epoch')\n",
        "plt.ylabel('Accuracy')\n",
        "plt.ylim([0, 1])\n",
        "plt.legend(loc='lower right')\n",
        "\n",
        "test_loss, test_acc = resnet_model.evaluate(x_test,  y_test, verbose=2)"
      ]
    },
    {
      "cell_type": "code",
      "source": [
        "predictions = resnet_model.predict(x_test)\n"
      ],
      "metadata": {
        "colab": {
          "base_uri": "https://localhost:8080/"
        },
        "id": "0NzESIrOTmYh",
        "outputId": "691571bf-9b73-4119-eb08-b415ecb1f442"
      },
      "execution_count": null,
      "outputs": [
        {
          "output_type": "stream",
          "name": "stdout",
          "text": [
            "237/237 [==============================] - 17s 68ms/step\n"
          ]
        }
      ]
    },
    {
      "cell_type": "code",
      "source": [
        "new= []\n",
        "for i in predictions:\n",
        "  temp = []\n",
        "  max = i.max()\n",
        "  for j in i:\n",
        "    if j != max:\n",
        "      temp.append(0)\n",
        "    else:\n",
        "      temp.append(1)\n",
        "  new.append(temp)\n",
        "new"
      ],
      "metadata": {
        "id": "O7SQ0A05Xn60"
      },
      "execution_count": null,
      "outputs": []
    },
    {
      "cell_type": "code",
      "source": [
        "new[0]"
      ],
      "metadata": {
        "id": "TfrT6OM9Yi_X"
      },
      "execution_count": null,
      "outputs": []
    },
    {
      "cell_type": "code",
      "source": [
        "count = 0\n",
        "sum = 0\n",
        "breeds = []\n",
        "test = []\n",
        "for i in new:\n",
        "  if (i == y_test[count]).all():\n",
        "    sum = sum + 1\n",
        "  else:\n",
        "    breeds.append(y_test[count])\n",
        "  test.append(y_test[count])\n",
        "  count = count + 1\n",
        "mean = sum/len(y_test)\n",
        "print(mean)\n",
        "final = encoder.inverse_transform(np.array(breeds))\n",
        "final2 = encoder.inverse_transform(np.array(test))\n",
        "rank = dict()\n",
        "total = dict()\n",
        "for i in final:\n",
        "  if i not in rank:\n",
        "    rank[i] = 1\n",
        "  else:\n",
        "    rank.update({i : rank.get(i) + 1})\n",
        "print(rank)\n",
        "for i in final2:\n",
        "  if i not in total:\n",
        "    total[i] = 1\n",
        "  else:\n",
        "    total.update({i : total.get(i) + 1})\n",
        "print(total)\n",
        "final3 = dict()\n",
        "for i in rank:\n",
        "  final3[i] = rank.get(i)/total.get(i)\n",
        "\n",
        "print(final3)"
      ],
      "metadata": {
        "id": "NdJvSMCbW6Sp"
      },
      "execution_count": null,
      "outputs": []
    },
    {
      "cell_type": "code",
      "source": [
        "import operator\n",
        "sorted = dict(sorted(final3.items(), key=operator.itemgetter(1),reverse=True))\n",
        "print(sorted)"
      ],
      "metadata": {
        "colab": {
          "base_uri": "https://localhost:8080/"
        },
        "id": "tj8jBe4-k8do",
        "outputId": "6507f8fe-87ec-49bc-e9e4-25640f2ac162"
      },
      "execution_count": null,
      "outputs": [
        {
          "output_type": "stream",
          "name": "stdout",
          "text": [
            "{'Shih': 0.896551724137931, 'toy_poodle': 0.7313432835820896, 'Airedale': 0.6811594202898551, 'malamute': 0.6774193548387096, 'Staffordshire_bullterrier': 0.6507936507936508, 'Rhodesian_ridgeback': 0.6349206349206349, 'Walker_hound': 0.631578947368421, 'collie': 0.6290322580645161, 'Italian_greyhound': 0.6, 'whippet': 0.5961538461538461, 'Brittany_spaniel': 0.5897435897435898, 'bloodhound': 0.5862068965517241, 'kelpie': 0.5849056603773585, 'Siberian_husky': 0.5740740740740741, 'Chihuahua': 0.5714285714285714, 'Saluki': 0.5671641791044776, 'Great_Pyrenees': 0.5657894736842105, 'Irish_wolfhound': 0.5614035087719298, 'Lhasa': 0.5555555555555556, 'Appenzeller': 0.546875, 'vizsla': 0.5441176470588235, 'giant_schnauzer': 0.5373134328358209, 'Weimaraner': 0.5294117647058824, 'Yorkshire_terrier': 0.5245901639344263, 'standard_poodle': 0.5245901639344263, 'miniature_schnauzer': 0.5217391304347826, 'Lakeland_terrier': 0.5147058823529411, 'standard_schnauzer': 0.5131578947368421, 'cairn': 0.509090909090909, 'Chesapeake_Bay_retriever': 0.5076923076923077, 'English_setter': 0.5072463768115942, 'black': 0.5, 'Australian_terrier': 0.49056603773584906, 'bluetick': 0.49056603773584906, 'Old_English_sheepdog': 0.4852941176470588, 'Eskimo_dog': 0.4827586206896552, 'basset': 0.47761194029850745, 'wire': 0.47692307692307695, 'miniature_poodle': 0.4745762711864407, 'Labrador_retriever': 0.4722222222222222, 'boxer': 0.4642857142857143, 'soft': 0.4626865671641791, 'German_shepherd': 0.46153846153846156, 'Gordon_setter': 0.45614035087719296, 'cocker_spaniel': 0.45161290322580644, 'Border_terrier': 0.4492753623188406, 'Doberman': 0.44285714285714284, 'German_short': 0.4406779661016949, 'Pembroke': 0.42857142857142855, 'curly': 0.42857142857142855, 'silky_terrier': 0.42857142857142855, 'Great_Dane': 0.4262295081967213, 'Norfolk_terrier': 0.423728813559322, 'redbone': 0.42105263157894735, 'pug': 0.4067796610169492, 'French_bulldog': 0.40625, 'bull_mastiff': 0.4032258064516129, 'miniature_pinscher': 0.4027777777777778, 'EntleBucher': 0.4, 'Irish_terrier': 0.390625, 'beagle': 0.3880597014925373, 'malinois': 0.3877551020408163, 'briard': 0.3783783783783784, 'Irish_setter': 0.37681159420289856, 'American_Staffordshire_terrier': 0.373134328358209, 'Tibetan_mastiff': 0.3709677419354839, 'toy_terrier': 0.3695652173913043, 'Welsh_springer_spaniel': 0.36923076923076925, 'Scottish_deerhound': 0.36666666666666664, 'borzoi': 0.36619718309859156, 'Bouvier_des_Flandres': 0.359375, 'English_foxhound': 0.3559322033898305, 'English_springer': 0.35384615384615387, 'West_Highland_white_terrier': 0.352112676056338, 'groenendael': 0.3492063492063492, 'Afghan_hound': 0.34545454545454546, 'Ibizan_hound': 0.3448275862068966, 'basenji': 0.3380281690140845, 'Dandie_Dinmont': 0.3333333333333333, 'Shetland_sheepdog': 0.3333333333333333, 'Tibetan_terrier': 0.3333333333333333, 'Pomeranian': 0.3333333333333333, 'Cardigan': 0.3333333333333333, 'Norwegian_elkhound': 0.32894736842105265, 'Kerry_blue_terrier': 0.3283582089552239, 'Norwich_terrier': 0.3188405797101449, 'Bedlington_terrier': 0.3142857142857143, 'affenpinscher': 0.3055555555555556, 'Maltese_dog': 0.30303030303030304, 'kuvasz': 0.3, 'flat': 0.29850746268656714, 'golden_retriever': 0.296875, 'Greater_Swiss_Mountain_dog': 0.288135593220339, 'Blenheim_spaniel': 0.2857142857142857, 'Newfoundland': 0.28125, 'otterhound': 0.2777777777777778, 'Pekinese': 0.27586206896551724, 'Boston_bull': 0.2714285714285714, 'chow': 0.26865671641791045, 'Bernese_mountain_dog': 0.2638888888888889, 'Irish_water_spaniel': 0.25, 'Saint_Bernard': 0.2413793103448276, 'papillon': 0.2328767123287671, 'Leonberg': 0.22580645161290322, 'clumber': 0.22413793103448276, 'dingo': 0.203125, 'Rottweiler': 0.19672131147540983, 'African_hunting_dog': 0.17543859649122806, 'Brabancon_griffon': 0.16417910447761194, 'Japanese_spaniel': 0.15873015873015872, 'Sussex_spaniel': 0.15254237288135594, 'Sealyham_terrier': 0.14754098360655737, 'Mexican_hairless': 0.14285714285714285, 'Scotch_terrier': 0.14035087719298245, 'Border_collie': 0.1323529411764706, 'komondor': 0.11764705882352941, 'keeshond': 0.1, 'dhole': 0.09090909090909091, 'Samoyed': 0.08620689655172414, 'schipperke': 0.07017543859649122}\n"
          ]
        }
      ]
    },
    {
      "cell_type": "code",
      "source": [
        "sorted"
      ],
      "metadata": {
        "colab": {
          "base_uri": "https://localhost:8080/"
        },
        "id": "zq4EQM7-nyOJ",
        "outputId": "6ec0d00e-9319-4b1c-a825-28f91df5395c"
      },
      "execution_count": null,
      "outputs": [
        {
          "output_type": "execute_result",
          "data": {
            "text/plain": [
              "{'Shih': 0.896551724137931,\n",
              " 'toy_poodle': 0.7313432835820896,\n",
              " 'Airedale': 0.6811594202898551,\n",
              " 'malamute': 0.6774193548387096,\n",
              " 'Staffordshire_bullterrier': 0.6507936507936508,\n",
              " 'Rhodesian_ridgeback': 0.6349206349206349,\n",
              " 'Walker_hound': 0.631578947368421,\n",
              " 'collie': 0.6290322580645161,\n",
              " 'Italian_greyhound': 0.6,\n",
              " 'whippet': 0.5961538461538461,\n",
              " 'Brittany_spaniel': 0.5897435897435898,\n",
              " 'bloodhound': 0.5862068965517241,\n",
              " 'kelpie': 0.5849056603773585,\n",
              " 'Siberian_husky': 0.5740740740740741,\n",
              " 'Chihuahua': 0.5714285714285714,\n",
              " 'Saluki': 0.5671641791044776,\n",
              " 'Great_Pyrenees': 0.5657894736842105,\n",
              " 'Irish_wolfhound': 0.5614035087719298,\n",
              " 'Lhasa': 0.5555555555555556,\n",
              " 'Appenzeller': 0.546875,\n",
              " 'vizsla': 0.5441176470588235,\n",
              " 'giant_schnauzer': 0.5373134328358209,\n",
              " 'Weimaraner': 0.5294117647058824,\n",
              " 'Yorkshire_terrier': 0.5245901639344263,\n",
              " 'standard_poodle': 0.5245901639344263,\n",
              " 'miniature_schnauzer': 0.5217391304347826,\n",
              " 'Lakeland_terrier': 0.5147058823529411,\n",
              " 'standard_schnauzer': 0.5131578947368421,\n",
              " 'cairn': 0.509090909090909,\n",
              " 'Chesapeake_Bay_retriever': 0.5076923076923077,\n",
              " 'English_setter': 0.5072463768115942,\n",
              " 'black': 0.5,\n",
              " 'Australian_terrier': 0.49056603773584906,\n",
              " 'bluetick': 0.49056603773584906,\n",
              " 'Old_English_sheepdog': 0.4852941176470588,\n",
              " 'Eskimo_dog': 0.4827586206896552,\n",
              " 'basset': 0.47761194029850745,\n",
              " 'wire': 0.47692307692307695,\n",
              " 'miniature_poodle': 0.4745762711864407,\n",
              " 'Labrador_retriever': 0.4722222222222222,\n",
              " 'boxer': 0.4642857142857143,\n",
              " 'soft': 0.4626865671641791,\n",
              " 'German_shepherd': 0.46153846153846156,\n",
              " 'Gordon_setter': 0.45614035087719296,\n",
              " 'cocker_spaniel': 0.45161290322580644,\n",
              " 'Border_terrier': 0.4492753623188406,\n",
              " 'Doberman': 0.44285714285714284,\n",
              " 'German_short': 0.4406779661016949,\n",
              " 'Pembroke': 0.42857142857142855,\n",
              " 'curly': 0.42857142857142855,\n",
              " 'silky_terrier': 0.42857142857142855,\n",
              " 'Great_Dane': 0.4262295081967213,\n",
              " 'Norfolk_terrier': 0.423728813559322,\n",
              " 'redbone': 0.42105263157894735,\n",
              " 'pug': 0.4067796610169492,\n",
              " 'French_bulldog': 0.40625,\n",
              " 'bull_mastiff': 0.4032258064516129,\n",
              " 'miniature_pinscher': 0.4027777777777778,\n",
              " 'EntleBucher': 0.4,\n",
              " 'Irish_terrier': 0.390625,\n",
              " 'beagle': 0.3880597014925373,\n",
              " 'malinois': 0.3877551020408163,\n",
              " 'briard': 0.3783783783783784,\n",
              " 'Irish_setter': 0.37681159420289856,\n",
              " 'American_Staffordshire_terrier': 0.373134328358209,\n",
              " 'Tibetan_mastiff': 0.3709677419354839,\n",
              " 'toy_terrier': 0.3695652173913043,\n",
              " 'Welsh_springer_spaniel': 0.36923076923076925,\n",
              " 'Scottish_deerhound': 0.36666666666666664,\n",
              " 'borzoi': 0.36619718309859156,\n",
              " 'Bouvier_des_Flandres': 0.359375,\n",
              " 'English_foxhound': 0.3559322033898305,\n",
              " 'English_springer': 0.35384615384615387,\n",
              " 'West_Highland_white_terrier': 0.352112676056338,\n",
              " 'groenendael': 0.3492063492063492,\n",
              " 'Afghan_hound': 0.34545454545454546,\n",
              " 'Ibizan_hound': 0.3448275862068966,\n",
              " 'basenji': 0.3380281690140845,\n",
              " 'Dandie_Dinmont': 0.3333333333333333,\n",
              " 'Shetland_sheepdog': 0.3333333333333333,\n",
              " 'Tibetan_terrier': 0.3333333333333333,\n",
              " 'Pomeranian': 0.3333333333333333,\n",
              " 'Cardigan': 0.3333333333333333,\n",
              " 'Norwegian_elkhound': 0.32894736842105265,\n",
              " 'Kerry_blue_terrier': 0.3283582089552239,\n",
              " 'Norwich_terrier': 0.3188405797101449,\n",
              " 'Bedlington_terrier': 0.3142857142857143,\n",
              " 'affenpinscher': 0.3055555555555556,\n",
              " 'Maltese_dog': 0.30303030303030304,\n",
              " 'kuvasz': 0.3,\n",
              " 'flat': 0.29850746268656714,\n",
              " 'golden_retriever': 0.296875,\n",
              " 'Greater_Swiss_Mountain_dog': 0.288135593220339,\n",
              " 'Blenheim_spaniel': 0.2857142857142857,\n",
              " 'Newfoundland': 0.28125,\n",
              " 'otterhound': 0.2777777777777778,\n",
              " 'Pekinese': 0.27586206896551724,\n",
              " 'Boston_bull': 0.2714285714285714,\n",
              " 'chow': 0.26865671641791045,\n",
              " 'Bernese_mountain_dog': 0.2638888888888889,\n",
              " 'Irish_water_spaniel': 0.25,\n",
              " 'Saint_Bernard': 0.2413793103448276,\n",
              " 'papillon': 0.2328767123287671,\n",
              " 'Leonberg': 0.22580645161290322,\n",
              " 'clumber': 0.22413793103448276,\n",
              " 'dingo': 0.203125,\n",
              " 'Rottweiler': 0.19672131147540983,\n",
              " 'African_hunting_dog': 0.17543859649122806,\n",
              " 'Brabancon_griffon': 0.16417910447761194,\n",
              " 'Japanese_spaniel': 0.15873015873015872,\n",
              " 'Sussex_spaniel': 0.15254237288135594,\n",
              " 'Sealyham_terrier': 0.14754098360655737,\n",
              " 'Mexican_hairless': 0.14285714285714285,\n",
              " 'Scotch_terrier': 0.14035087719298245,\n",
              " 'Border_collie': 0.1323529411764706,\n",
              " 'komondor': 0.11764705882352941,\n",
              " 'keeshond': 0.1,\n",
              " 'dhole': 0.09090909090909091,\n",
              " 'Samoyed': 0.08620689655172414,\n",
              " 'schipperke': 0.07017543859649122}"
            ]
          },
          "metadata": {},
          "execution_count": 29
        }
      ]
    }
  ],
  "metadata": {
    "accelerator": "GPU",
    "colab": {
      "provenance": []
    },
    "gpuClass": "standard",
    "kernelspec": {
      "display_name": "Python 3",
      "name": "python3"
    },
    "language_info": {
      "name": "python"
    }
  },
  "nbformat": 4,
  "nbformat_minor": 0
}